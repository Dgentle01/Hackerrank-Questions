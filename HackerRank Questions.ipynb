{
 "cells": [
  {
   "cell_type": "markdown",
   "id": "f8cf87db",
   "metadata": {},
   "source": [
    "## Birth Year Control"
   ]
  },
  {
   "cell_type": "code",
   "execution_count": 30,
   "id": "66f44a89",
   "metadata": {},
   "outputs": [
    {
     "name": "stdout",
     "output_type": "stream",
     "text": [
      "programmerLady321\n",
      "cool_coder13\n",
      "sarah_hacks\n",
      "YES born in the same year\n",
      "NO username is too long.\n"
     ]
    }
   ],
   "source": [
    "username1= 'programmerLady321'\n",
    "username1_age = 1998\n",
    "username2 = 'cool_coder13'\n",
    "username2_age = 1982\n",
    "username3 = 'sarah_hacks'\n",
    "username3_age = 1998\n",
    "\n",
    "print(username1)\n",
    "print(username2) \n",
    "print(username3)\n",
    "\n",
    "if username1_age == username3_age:\n",
    "    print ('YES born in the same year')\n",
    "else:\n",
    "    print('NO not born in the same year')\n",
    "\n",
    "\n",
    "# check if number is greater than 0\n",
    "if (len(username1)) > 12:\n",
    "    print('NO username is too long.')\n",
    "else:\n",
    "    print('Username accepted')"
   ]
  },
  {
   "cell_type": "markdown",
   "id": "6d4bd1db",
   "metadata": {},
   "source": [
    "## Planet Loops"
   ]
  },
  {
   "cell_type": "code",
   "execution_count": 35,
   "id": "787da449",
   "metadata": {},
   "outputs": [
    {
     "name": "stdout",
     "output_type": "stream",
     "text": [
      "70\n",
      "71\n",
      "72\n",
      "73\n",
      "74\n",
      "75\n",
      "76\n",
      "77\n",
      "78\n",
      "79\n",
      "80\n",
      "81\n",
      "82\n",
      "83\n",
      "84\n",
      "85\n"
     ]
    }
   ],
   "source": [
    "for i in range (70 , 86):\n",
    "    print (i)"
   ]
  },
  {
   "cell_type": "code",
   "execution_count": 36,
   "id": "8f4b9235",
   "metadata": {},
   "outputs": [
    {
     "name": "stdout",
     "output_type": "stream",
     "text": [
      "Haumea\n",
      "Eris\n",
      "Pluto\n",
      "Makemake\n",
      "Ceres\n"
     ]
    }
   ],
   "source": [
    "dwarf_planets = ['Haumea', 'Eris', 'Pluto', 'Makemake', 'Ceres']\n",
    "for x in dwarf_planets:\n",
    "    print(x)\n",
    "    for s in x:\n",
    "        if len(dwarf_planets) <= 6:\n",
    "            print(dwarf_planets)"
   ]
  },
  {
   "cell_type": "code",
   "execution_count": 4,
   "id": "c872a656",
   "metadata": {},
   "outputs": [
    {
     "ename": "AttributeError",
     "evalue": "type object 'int' has no attribute 'rstrip'",
     "output_type": "error",
     "traceback": [
      "\u001b[1;31m---------------------------------------------------------------------------\u001b[0m",
      "\u001b[1;31mAttributeError\u001b[0m                            Traceback (most recent call last)",
      "Input \u001b[1;32mIn [4]\u001b[0m, in \u001b[0;36m<cell line: 8>\u001b[1;34m()\u001b[0m\n\u001b[0;32m      7\u001b[0m     \u001b[38;5;28mprint\u001b[39m(\u001b[38;5;28mmin\u001b[39m, \u001b[38;5;28mmax\u001b[39m)\n\u001b[0;32m      8\u001b[0m \u001b[38;5;28;01mif\u001b[39;00m \u001b[38;5;18m__name__\u001b[39m \u001b[38;5;241m==\u001b[39m \u001b[38;5;124m'\u001b[39m\u001b[38;5;124m__main__\u001b[39m\u001b[38;5;124m'\u001b[39m:\n\u001b[1;32m---> 10\u001b[0m     arr \u001b[38;5;241m=\u001b[39m \u001b[38;5;28mlist\u001b[39m(\u001b[38;5;28mmap\u001b[39m(\u001b[38;5;28;43mint\u001b[39;49m\u001b[38;5;241;43m.\u001b[39;49m\u001b[43mrstrip\u001b[49m()\u001b[38;5;241m.\u001b[39msplit()))\n\u001b[0;32m     11\u001b[0m miniMaxSum(arr)\n",
      "\u001b[1;31mAttributeError\u001b[0m: type object 'int' has no attribute 'rstrip'"
     ]
    }
   ],
   "source": [
    "def miniMaxSum(arr):\n",
    "    # Write your code here\n",
    "    ints = 1,2,3,4,5\n",
    "    print(ints)\n",
    "    min= 1+2+3+4\n",
    "    max= 2+3+4+5\n",
    "    print(min, max)\n",
    "if __name__ == '__main__':\n",
    "\n",
    "    arr = list(map(int.rstrip().split()))\n",
    "miniMaxSum(arr)\n"
   ]
  },
  {
   "cell_type": "code",
   "execution_count": 7,
   "id": "964c34f6",
   "metadata": {},
   "outputs": [
    {
     "name": "stdout",
     "output_type": "stream",
     "text": [
      "12456\n"
     ]
    },
    {
     "ename": "TypeError",
     "evalue": "map() must have at least two arguments.",
     "output_type": "error",
     "traceback": [
      "\u001b[1;31m---------------------------------------------------------------------------\u001b[0m",
      "\u001b[1;31mTypeError\u001b[0m                                 Traceback (most recent call last)",
      "Input \u001b[1;32mIn [7]\u001b[0m, in \u001b[0;36m<cell line: 8>\u001b[1;34m()\u001b[0m\n\u001b[0;32m      7\u001b[0m     \u001b[38;5;28mprint\u001b[39m(\u001b[38;5;28mmin\u001b[39m, \u001b[38;5;28mmax\u001b[39m)\n\u001b[0;32m      8\u001b[0m \u001b[38;5;28;01mif\u001b[39;00m \u001b[38;5;18m__name__\u001b[39m \u001b[38;5;241m==\u001b[39m \u001b[38;5;124m'\u001b[39m\u001b[38;5;124m__main__\u001b[39m\u001b[38;5;124m'\u001b[39m:\n\u001b[1;32m---> 10\u001b[0m     arr \u001b[38;5;241m=\u001b[39m \u001b[38;5;28mlist\u001b[39m(\u001b[38;5;28;43mmap\u001b[39;49m\u001b[43m(\u001b[49m\u001b[38;5;28;43minput\u001b[39;49m\u001b[43m(\u001b[49m\u001b[43m)\u001b[49m\u001b[38;5;241;43m.\u001b[39;49m\u001b[43mrstrip\u001b[49m\u001b[43m(\u001b[49m\u001b[43m)\u001b[49m\u001b[38;5;241;43m.\u001b[39;49m\u001b[43msplit\u001b[49m\u001b[43m(\u001b[49m\u001b[43m)\u001b[49m\u001b[43m)\u001b[49m)\n\u001b[0;32m     11\u001b[0m     miniMaxSum(arr)\n",
      "\u001b[1;31mTypeError\u001b[0m: map() must have at least two arguments."
     ]
    }
   ],
   "source": [
    "def miniMaxSum(arr):\n",
    "    # Write your code here\n",
    "#     ints = [1,2,3,4,5]\n",
    "    print(ints)\n",
    "    min= 1+2+3+4\n",
    "    max= 2+3+4+5\n",
    "    print(min, max)\n",
    "if __name__ == '__main__':\n",
    "\n",
    "    arr = list(map(int, input().rstrip().split()))\n",
    "    miniMaxSum(arr)\n"
   ]
  },
  {
   "cell_type": "code",
   "execution_count": 46,
   "id": "7af8eab4",
   "metadata": {},
   "outputs": [
    {
     "name": "stdout",
     "output_type": "stream",
     "text": [
      "The product of 83 and 9 is 747.\n"
     ]
    }
   ],
   "source": [
    "num1 = 83\n",
    "num2 = 9\n",
    "#The f string helps use call multiple variables in a sentence\n",
    "print(f\"The product of {num1} and {num2} is {num1 * num2}.\")"
   ]
  },
  {
   "cell_type": "code",
   "execution_count": 47,
   "id": "b290d9a5",
   "metadata": {},
   "outputs": [
    {
     "name": "stdout",
     "output_type": "stream",
     "text": [
      "Is num even? False\n"
     ]
    }
   ],
   "source": [
    "num = 87;\n",
    "#The f string helps in the if statement\n",
    "print(f\"Is num even? {True if num%2==0 else False}\")"
   ]
  },
  {
   "cell_type": "code",
   "execution_count": 48,
   "id": "92ed08a4",
   "metadata": {},
   "outputs": [
    {
     "data": {
      "text/plain": [
       "2"
      ]
     },
     "execution_count": 48,
     "metadata": {},
     "output_type": "execute_result"
    }
   ],
   "source": [
    "2%5"
   ]
  },
  {
   "cell_type": "markdown",
   "id": "b5c697e9",
   "metadata": {},
   "source": [
    "## C++ HackerRank Day1"
   ]
  },
  {
   "cell_type": "code",
   "execution_count": 54,
   "id": "d9753ce8",
   "metadata": {},
   "outputs": [
    {
     "ename": "SyntaxError",
     "evalue": "invalid syntax (4083379816.py, line 1)",
     "output_type": "error",
     "traceback": [
      "\u001b[1;36m  Input \u001b[1;32mIn [54]\u001b[1;36m\u001b[0m\n\u001b[1;33m    using System.CodeDom.Compiler;\u001b[0m\n\u001b[1;37m          ^\u001b[0m\n\u001b[1;31mSyntaxError\u001b[0m\u001b[1;31m:\u001b[0m invalid syntax\n"
     ]
    }
   ],
   "source": [
    "using System.CodeDom.Compiler;\n",
    "using System.Collections.Generic;\n",
    "using System.Collections;\n",
    "using System.ComponentModel;\n",
    "using System.Diagnostics.CodeAnalysis;\n",
    "using System.Globalization;\n",
    "using System.IO;\n",
    "using System.Linq;\n",
    "using System.Reflection;\n",
    "using System.Runtime.Serialization;\n",
    "using System.Text.RegularExpressions;\n",
    "using System.Text;\n",
    "using System;\n",
    "\n",
    "class Result\n",
    "{\n",
    "\n",
    "    /*\n",
    "     * Complete the 'plusMinus' function below.\n",
    "     *\n",
    "     * The function accepts INTEGER_ARRAY arr as parameter.\n",
    "     */\n",
    "\n",
    "    public static void plusMinus(List<int> arr)\n",
    "    {\n",
    "        List<int> p = arr.FindAll(delegate(int a){return a>0;});\n",
    "        //Delegate is used in methods that can be invoke any type of method into return type nor non return\n",
    "        List<int> n = arr.FindAll(delegate(int a){return a<0;});\n",
    "        List<int> z = arr.FindAll(delegate(int a){return a==0;});\n",
    "        \n",
    "        Console.WriteLine(\"{0:0.000000}\",Convert.ToDouble(p.Count)/Convert.ToDouble(arr.Count));\n",
    "        Console.WriteLine(\"{0:0.000000}\",Convert.ToDouble(n.Count)/Convert.ToDouble(arr.Count));\n",
    "        Console.WriteLine(\"{0:0.000000}\",Convert.ToDouble(z.Count)/Convert.ToDouble(arr.Count));\n",
    "    }\n",
    "\n",
    "}\n",
    "\n",
    "class Solution\n",
    "{\n",
    "    public static void Main(string[] args)\n",
    "    {\n",
    "        int n = Convert.ToInt32(Console.ReadLine().Trim());\n",
    "\n",
    "        List<int> arr = Console.ReadLine().TrimEnd().Split(' ').ToList().Select(arrTemp => Convert.ToInt32(arrTemp)).ToList();\n",
    "\n",
    "        Result.plusMinus(arr);\n",
    "    }\n",
    "}"
   ]
  },
  {
   "cell_type": "code",
   "execution_count": 77,
   "id": "6d3f3cd9",
   "metadata": {},
   "outputs": [
    {
     "name": "stdout",
     "output_type": "stream",
     "text": [
      "1 2 3 4 5 6\n"
     ]
    }
   ],
   "source": [
    "nm = input(1 2 3 4 5 6')  \n",
    "          \n",
    "DISCARD 0\n",
    "DISCARD 1\n",
    "DISCARD 2\n",
    "DONATE TO MUSEUM gemstone\n",
    "DONATE TO MUSEUM gemstone\n",
    "DONATE TO MUSEUM fossil\n",
    "DISCARD 6\n",
    "DISCARD 7\n",
    "DISCARD 8\n",
    "DONATE TO MUSEUM fossil\n",
    "DISCARD 10"
   ]
  },
  {
   "cell_type": "code",
   "execution_count": 18,
   "id": "56e64655",
   "metadata": {},
   "outputs": [
    {
     "ename": "TypeError",
     "evalue": "'str' object is not callable",
     "output_type": "error",
     "traceback": [
      "\u001b[1;31m---------------------------------------------------------------------------\u001b[0m",
      "\u001b[1;31mTypeError\u001b[0m                                 Traceback (most recent call last)",
      "Input \u001b[1;32mIn [18]\u001b[0m, in \u001b[0;36m<cell line: 2>\u001b[1;34m()\u001b[0m\n\u001b[0;32m      1\u001b[0m Obj \u001b[38;5;241m=\u001b[39m [\u001b[38;5;124m\"\u001b[39m\u001b[38;5;124mrock\u001b[39m\u001b[38;5;124m\"\u001b[39m, \u001b[38;5;124m\"\u001b[39m\u001b[38;5;124mrock\u001b[39m\u001b[38;5;124m\"\u001b[39m, \u001b[38;5;124m\"\u001b[39m\u001b[38;5;124mrock\u001b[39m\u001b[38;5;124m\"\u001b[39m, \u001b[38;5;124m\"\u001b[39m\u001b[38;5;124mgemstone\u001b[39m\u001b[38;5;124m\"\u001b[39m, \u001b[38;5;124m\"\u001b[39m\u001b[38;5;124mgemstone\u001b[39m\u001b[38;5;124m\"\u001b[39m, \u001b[38;5;124m\"\u001b[39m\u001b[38;5;124mfossil\u001b[39m\u001b[38;5;124m\"\u001b[39m, \u001b[38;5;124m\"\u001b[39m\u001b[38;5;124mconcrete\u001b[39m\u001b[38;5;124m\"\u001b[39m, \u001b[38;5;124m\"\u001b[39m\u001b[38;5;124mconcrete\u001b[39m\u001b[38;5;124m\"\u001b[39m, \u001b[38;5;124m\"\u001b[39m\u001b[38;5;124mconcrete\u001b[39m\u001b[38;5;124m\"\u001b[39m, \u001b[38;5;124m\"\u001b[39m\u001b[38;5;124mfossil\u001b[39m\u001b[38;5;124m\"\u001b[39m, \u001b[38;5;124m\"\u001b[39m\u001b[38;5;124mrock\u001b[39m\u001b[38;5;124m\"\u001b[39m]\n\u001b[0;32m      2\u001b[0m \u001b[38;5;28;01mfor\u001b[39;00m x \u001b[38;5;129;01min\u001b[39;00m Obj:\n\u001b[1;32m----> 3\u001b[0m     \u001b[38;5;28;01mfor\u001b[39;00m seyi \u001b[38;5;129;01min\u001b[39;00m \u001b[43mx\u001b[49m\u001b[43m(\u001b[49m\u001b[38;5;241;43m0\u001b[39;49m\u001b[43m)\u001b[49m:\n\u001b[0;32m      4\u001b[0m         Mus \u001b[38;5;241m=\u001b[39m \u001b[38;5;28mlen\u001b[39m(Obj)\n\u001b[0;32m      5\u001b[0m         \u001b[38;5;28mprint\u001b[39m(\u001b[38;5;124m\"\u001b[39m\u001b[38;5;124mDISCARD\u001b[39m\u001b[38;5;124m\"\u001b[39m, Obj\u001b[38;5;241m.\u001b[39mindex(\u001b[38;5;124m'\u001b[39m\u001b[38;5;124mrock\u001b[39m\u001b[38;5;124m'\u001b[39m))\n",
      "\u001b[1;31mTypeError\u001b[0m: 'str' object is not callable"
     ]
    }
   ],
   "source": [
    "Obj = [\"rock\", \"rock\", \"rock\", \"gemstone\", \"gemstone\", \"fossil\", \"concrete\", \"concrete\", \"concrete\", \"fossil\", \"rock\"]\n",
    "for x in Obj:\n",
    "    for seyi in x:\n",
    "        Mus = len(Obj)\n",
    "        print(\"DISCARD\", Obj.index('rock')) \n",
    "    \n",
    "    \n",
    "        #char_num = len(movie_name)\n",
    "        #print(\"The title \" + movie_name + \" is \" + str(char_num) + \" characters long.\")"
   ]
  },
  {
   "cell_type": "code",
   "execution_count": 10,
   "id": "73b2282a",
   "metadata": {},
   "outputs": [
    {
     "name": "stdout",
     "output_type": "stream",
     "text": [
      "rock\n",
      "rock\n",
      "rock\n",
      "rock\n",
      "rock\n",
      "rock\n",
      "rock\n",
      "rock\n",
      "rock\n",
      "rock\n",
      "rock\n"
     ]
    }
   ],
   "source": [
    "Obj = [\"rock\", \"rock\", \"rock\", \"gemstone\", \"gemstone\", \"fossil\", \"concrete\", \"concrete\", \"concrete\", \"fossil\", \"rock\"]\n",
    "r= rock \n",
    "r1 = rock\n",
    "r2 = rock\n",
    "index = Obj.index(item)\n",
    "for w in Obj():\n",
    "    print(Obj[0])\n",
    "    \n",
    "    if mus == rock:\n",
    "        print('DISCARD', )\n",
    "        \n",
    "#DISCARD[index position of d obj in the array]"
   ]
  },
  {
   "cell_type": "code",
   "execution_count": null,
   "id": "b3321414",
   "metadata": {},
   "outputs": [],
   "source": [
    "mylist = [21, 5, 8, 52, 21, 87]\n",
    "item = 8\n",
    "\n",
    "#search for the item\n",
    "index = mylist.index(item)\n",
    "\n",
    "print('The index of', item, 'in the list is:', index)"
   ]
  },
  {
   "cell_type": "code",
   "execution_count": 37,
   "id": "021a70dd",
   "metadata": {},
   "outputs": [
    {
     "name": "stdout",
     "output_type": "stream",
     "text": [
      "apple\n",
      "banana\n",
      "cherry\n"
     ]
    }
   ],
   "source": [
    "thislist = [\"apple\", \"banana\", \"cherry\"]\n",
    "for x in thislist:\n",
    "    print(x)"
   ]
  },
  {
   "cell_type": "code",
   "execution_count": null,
   "id": "46689ed2",
   "metadata": {},
   "outputs": [],
   "source": [
    "#!/bin/python3\n",
    "\n",
    "import math\n",
    "import os\n",
    "import random\n",
    "import re\n",
    "import sys\n",
    "\n",
    "\n",
    "\n",
    "#\n",
    "# Complete the 'getTreasureFloor' function below.\n",
    "#\n",
    "# The function is expected to return an INTEGER.\n",
    "# The function accepts STRING treasureMap as parameter.\n",
    "#\n",
    "\n",
    "def getTreasureFloor(treasureMap):\n",
    "    # Write your code here\n",
    "    # ( go down onw floor , ) go up one floor\n",
    "    floor = input ('')\n",
    "    for ) in i:\n",
    "        )+) = 1\n",
    "        )+)+) = 2\n",
    "        )+)+)+) = 3\n",
    "        (+(+(+( = 4\n",
    "    if floor == ):\n",
    "        print('1')\n",
    "    elif )):\n",
    "        print ('2')\n",
    "    elif ))):\n",
    "        print ('3')\n",
    "    elif )))):\n",
    "        print ('4')\n",
    "    elif (:\n",
    "        print (-1)\n",
    "    elif\n",
    "if __name__ == '__main__':\n",
    "    fptr = open(os.environ['OUTPUT_PATH'], 'w')\n",
    "\n",
    "    treasureMap = input()\n",
    "\n",
    "    result = getTreasureFloor(treasureMap)\n",
    "\n",
    "    fptr.write(str(result) + '\\n')\n",
    "\n",
    "    fptr.close()"
   ]
  },
  {
   "cell_type": "code",
   "execution_count": 8,
   "id": "b6a63c52",
   "metadata": {},
   "outputs": [],
   "source": [
    "def find_max(nums):\n",
    "    max_num = float(\"-inf\") # smaller than all other numbers\n",
    "    for num in nums:\n",
    "        if num > max_num:\n",
    "            num = max_num \n",
    "            return max_num"
   ]
  },
  {
   "cell_type": "code",
   "execution_count": 1,
   "id": "83c2f5dc",
   "metadata": {},
   "outputs": [
    {
     "name": "stdout",
     "output_type": "stream",
     "text": [
      "['nodesjs', 'eyfud', 'dhdhd']\n"
     ]
    },
    {
     "name": "stderr",
     "output_type": "stream",
     "text": [
      "\n",
      "KeyboardInterrupt\n",
      "\n"
     ]
    }
   ],
   "source": [
    "inputs =['nodesjs', 'eyfud', 'dhdhd']\n",
    "print(inputs)\n",
    "for i in inputs:\n",
    "    inputs.append(i.upper())\n",
    "print(inputs)"
   ]
  },
  {
   "cell_type": "code",
   "execution_count": 6,
   "id": "6fc18590",
   "metadata": {},
   "outputs": [
    {
     "name": "stdout",
     "output_type": "stream",
     "text": [
      "[1, 2, 3, 4, 5, 6, 7]\n"
     ]
    }
   ],
   "source": [
    "l1 = [1,2,3,4]\n",
    "l2 = [5,6,7]\n",
    "result = (l1+l2)\n",
    "print(result)"
   ]
  },
  {
   "cell_type": "markdown",
   "id": "558e4ae7",
   "metadata": {},
   "source": [
    "# 'the {} side {1} {2} '.format('bright', 'of', 'life')"
   ]
  },
  {
   "cell_type": "code",
   "execution_count": 8,
   "id": "bd3d8d54",
   "metadata": {
    "scrolled": true
   },
   "outputs": [
    {
     "name": "stdout",
     "output_type": "stream",
     "text": [
      "{'b', 'p', 'a', 'san', 'q', 'c'}\n"
     ]
    }
   ],
   "source": [
    "Y = set('abc')\n",
    "Y.add('san')\n",
    "Y.update(set(['p','q']))\n",
    "print(Y)"
   ]
  },
  {
   "cell_type": "code",
   "execution_count": 10,
   "id": "97bed5d7",
   "metadata": {},
   "outputs": [
    {
     "name": "stdout",
     "output_type": "stream",
     "text": [
      "[0, 1]\n",
      "[3, 2, 1, 0, 1, 4]\n",
      "[0, 1, 0, 1, 4]\n"
     ]
    }
   ],
   "source": [
    "def f(x, l=[]):\n",
    "    for i in range(x):\n",
    "        l.append(i*i)\n",
    "    print(l)\n",
    "    \n",
    "f(2)\n",
    "f(3, [3,2,1])\n",
    "f(3)"
   ]
  },
  {
   "cell_type": "code",
   "execution_count": null,
   "id": "b1358070",
   "metadata": {},
   "outputs": [],
   "source": []
  }
 ],
 "metadata": {
  "kernelspec": {
   "display_name": "Python 3 (ipykernel)",
   "language": "python",
   "name": "python3"
  },
  "language_info": {
   "codemirror_mode": {
    "name": "ipython",
    "version": 3
   },
   "file_extension": ".py",
   "mimetype": "text/x-python",
   "name": "python",
   "nbconvert_exporter": "python",
   "pygments_lexer": "ipython3",
   "version": "3.9.12"
  }
 },
 "nbformat": 4,
 "nbformat_minor": 5
}
